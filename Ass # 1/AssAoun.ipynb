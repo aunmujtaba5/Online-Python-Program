{
 "cells": [
  {
   "cell_type": "markdown",
   "id": "8e0c9f0f",
   "metadata": {},
   "source": [
    "# QNo-1"
   ]
  },
  {
   "cell_type": "code",
   "execution_count": 2,
   "id": "99de57ce",
   "metadata": {},
   "outputs": [
    {
     "name": "stdout",
     "output_type": "stream",
     "text": [
      "Twinkle, twinkle little star,\n",
      "                 How I wonder what you are.\n",
      "                        Up above the world so high.\n",
      "                        Like a diamond in the sky.\n",
      "Twinkle, twinkle little star.\n",
      "        How I wonder what you are.\n"
     ]
    }
   ],
   "source": [
    "print('''Twinkle, twinkle little star,\n",
    "                 How I wonder what you are.\n",
    "                        Up above the world so high.\n",
    "                        Like a diamond in the sky.\n",
    "Twinkle, twinkle little star.\n",
    "        How I wonder what you are.''')"
   ]
  },
  {
   "cell_type": "markdown",
   "id": "c40766cf",
   "metadata": {},
   "source": [
    "# QNo-2"
   ]
  },
  {
   "cell_type": "code",
   "execution_count": 3,
   "id": "c8a74162",
   "metadata": {},
   "outputs": [
    {
     "name": "stdout",
     "output_type": "stream",
     "text": [
      "Python version\n",
      "3.9.7 (default, Sep 16 2021, 16:59:28) [MSC v.1916 64 bit (AMD64)]\n",
      "Version info.\n",
      "sys.version_info(major=3, minor=9, micro=7, releaselevel='final', serial=0)\n"
     ]
    }
   ],
   "source": [
    "import sys\n",
    "print(\"Python version\")\n",
    "print (sys.version)\n",
    "print(\"Version info.\")\n",
    "print (sys.version_info)\n"
   ]
  },
  {
   "cell_type": "markdown",
   "id": "585102db",
   "metadata": {},
   "source": [
    "# QNo-3"
   ]
  },
  {
   "cell_type": "code",
   "execution_count": 6,
   "id": "b755ceab",
   "metadata": {},
   "outputs": [
    {
     "name": "stdout",
     "output_type": "stream",
     "text": [
      "2021-12-29 05:04:04.882307\n"
     ]
    }
   ],
   "source": [
    "import datetime\n",
    "now = datetime.datetime.now()\n",
    "print(now)"
   ]
  },
  {
   "cell_type": "markdown",
   "id": "0070c171",
   "metadata": {},
   "source": [
    "# QNo-4"
   ]
  },
  {
   "cell_type": "code",
   "execution_count": 10,
   "id": "64ca3216",
   "metadata": {},
   "outputs": [
    {
     "name": "stdout",
     "output_type": "stream",
     "text": [
      "Enter the radius of circle6\n",
      "The area of the circle is = 113.03999999999999\n"
     ]
    }
   ],
   "source": [
    "r = int(input(\"Enter the radius of circle\"))\n",
    "area = 3.14 * r*r\n",
    "print(\"The area of the circle is =\", area)"
   ]
  },
  {
   "cell_type": "markdown",
   "id": "dec99d62",
   "metadata": {},
   "source": [
    "# QNo-5"
   ]
  },
  {
   "cell_type": "code",
   "execution_count": null,
   "id": "aded735a",
   "metadata": {},
   "outputs": [
    {
     "name": "stdout",
     "output_type": "stream",
     "text": [
      " Enter Your First nameIbrar\n"
     ]
    }
   ],
   "source": [
    "firstName = input(\" Enter Your First name\")\n",
    "lastName = input(\" Enter Your Last Name\")\n",
    "print(lastName + \" \" + firstName)"
   ]
  },
  {
   "cell_type": "markdown",
   "id": "630a2d45",
   "metadata": {},
   "source": [
    "# QNo-6"
   ]
  },
  {
   "cell_type": "code",
   "execution_count": null,
   "id": "140a6e56",
   "metadata": {},
   "outputs": [],
   "source": [
    "fis = int(input(\"Enter Your first Number\"))\n",
    "sec = int(input(\"Enter Your second Number\"))\n",
    "add = "
   ]
  }
 ],
 "metadata": {
  "kernelspec": {
   "display_name": "Python 3 (ipykernel)",
   "language": "python",
   "name": "python3"
  },
  "language_info": {
   "codemirror_mode": {
    "name": "ipython",
    "version": 3
   },
   "file_extension": ".py",
   "mimetype": "text/x-python",
   "name": "python",
   "nbconvert_exporter": "python",
   "pygments_lexer": "ipython3",
   "version": "3.9.7"
  }
 },
 "nbformat": 4,
 "nbformat_minor": 5
}
